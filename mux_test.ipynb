{
 "cells": [
  {
   "cell_type": "code",
   "execution_count": 1,
   "metadata": {},
   "outputs": [],
   "source": [
    "from dotenv import load_dotenv, find_dotenv\n",
    "import os\n",
    "import moviepy.editor as mp\n",
    "import requests\n",
    "import urllib.request\n",
    "\n",
    "load_dotenv(find_dotenv())\n",
    "MUX_TOKEN_ID = os.getenv('MUX_TOKEN_ID')\n",
    "MUX_TOKEN_SECRET = os.getenv('MUX_TOKEN_SECRET')\n",
    "\n",
    "\n",
    "#response = requests.get(\"https://stream.mux.com/Ghdtz01zXgvdspi1mD9f1kEu2FkfoGGHlCcs2tiFRGaE/high.mp4?download=fire_greece.mp4\", auth=(MUX_TOKEN_ID, MUX_TOKEN_SECRET))\n",
    "vid = urllib.request.urlretrieve(\"https://stream.mux.com/Ghdtz01zXgvdspi1mD9f1kEu2FkfoGGHlCcs2tiFRGaE/high.mp4?download=fire_greece.mp4\", 'fire_greece.mp4') "
   ]
  },
  {
   "cell_type": "code",
   "execution_count": 2,
   "metadata": {},
   "outputs": [
    {
     "name": "stdout",
     "output_type": "stream",
     "text": [
      "Interrupt\n"
     ]
    },
    {
     "data": {
      "text/plain": [
       "[]"
      ]
     },
     "execution_count": 2,
     "metadata": {},
     "output_type": "execute_result"
    }
   ],
   "source": [
    "my_clip = mp.VideoFileClip(\"fire_greece.mp4\")\n",
    "my_clip.preview(fps = 30)"
   ]
  },
  {
   "cell_type": "code",
   "execution_count": null,
   "metadata": {},
   "outputs": [],
   "source": [
    "print(MUX_TOKEN_ID)"
   ]
  },
  {
   "cell_type": "code",
   "execution_count": null,
   "metadata": {},
   "outputs": [],
   "source": [
    "# enable mp4 support\n",
    "requests.put(f'https://api.mux.com/video/v1/assets/aeDVuyh9l4encXRvk9rP3n008VYZ7EhkVaVTJWMiPgIo/mp4-support',\n",
    "            data='{ \"mp4_support\": \"standard\" }', auth=(MUX_TOKEN_ID, MUX_TOKEN_SECRET), headers={\"Content-Type\":\"application/json\"})"
   ]
  }
 ],
 "metadata": {
  "interpreter": {
   "hash": "696d2529491b84605c2f10100943787b7539f12fba5e4adcc6c4f988d6b014cb"
  },
  "kernelspec": {
   "display_name": "Python 3.10.2 ('dsbasic')",
   "language": "python",
   "name": "python3"
  },
  "language_info": {
   "codemirror_mode": {
    "name": "ipython",
    "version": 3
   },
   "file_extension": ".py",
   "mimetype": "text/x-python",
   "name": "python",
   "nbconvert_exporter": "python",
   "pygments_lexer": "ipython3",
   "version": "3.10.2"
  },
  "orig_nbformat": 4
 },
 "nbformat": 4,
 "nbformat_minor": 2
}
