{
 "cells": [
  {
   "cell_type": "code",
   "execution_count": 1,
   "metadata": {},
   "outputs": [],
   "source": [
    "from dotenv import load_dotenv, find_dotenv\n",
    "import os\n",
    "import moviepy.editor as mp\n",
    "import requests\n",
    "import urllib.request\n",
    "\n",
    "load_dotenv(find_dotenv())\n",
    "MUX_TOKEN_ID = os.getenv('MUX_TOKEN_ID')\n",
    "MUX_TOKEN_SECRET = os.getenv('MUX_TOKEN_SECRET')\n",
    "\n",
    "\n",
    "PLAYBACK_ID = 'Y5w00g2rUZAuGiaa01vxlB5GkI4rYC8TZLpR7OBgjT013M'\n",
    "ASSET_ID = 'W00iQAkg7CgHFltbws4S01sbSFlKNyS8NwK5xf7AJnrus'\n",
    "VIDEO_NAME = '2_hour_stream_Washington_DC_LIVE_12.4.2021_Patriot_Front_Protest_US_Capitol_to_Virginia_Border_support_Indy_Media-360p-.mp4'\n",
    "resolutions = ['high', 'mid', 'low']\n",
    "\n",
    "\"\"\"#enable mp4 support THIS SHOULD BE DONE WEB SIDE\n",
    "try:\n",
    "    requests.put(f'https://api.mux.com/video/v1/assets/{ASSET_ID}/mp4-support',\n",
    "                data='{ \"mp4_support\": \"standard\" }', auth=(MUX_TOKEN_ID, MUX_TOKEN_SECRET), headers={\"Content-Type\":\"application/json\"})\n",
    "except: \n",
    "    pass\n",
    "\"\"\"\n",
    "\n",
    "for res in resolutions:\n",
    "    try:\n",
    "        vid = urllib.request.urlretrieve(f\"https://stream.mux.com/{PLAYBACK_ID}/{res}.mp4?download={VIDEO_NAME}\", f'{VIDEO_NAME}')\n",
    "        \n",
    "        break\n",
    "    except:\n",
    "        continue\n",
    "print(vid)\n",
    "my_clip = mp.VideoFileClip(f\"{VIDEO_NAME}\")\n",
    "#my_clip.preview(fps = 30)"
   ]
  },
  {
   "cell_type": "code",
   "execution_count": 2,
   "metadata": {},
   "outputs": [
    {
     "name": "stdout",
     "output_type": "stream",
     "text": [
      "Interrupt\n"
     ]
    },
    {
     "data": {
      "text/plain": [
       "[]"
      ]
     },
     "execution_count": 2,
     "metadata": {},
     "output_type": "execute_result"
    }
   ],
   "source": [
    "#response = requests.get(\"https://stream.mux.com/Ghdtz01zXgvdspi1mD9f1kEu2FkfoGGHlCcs2tiFRGaE/high.mp4?download=fire_greece.mp4\", auth=(MUX_TOKEN_ID, MUX_TOKEN_SECRET))\n"
   ]
  }
 ],
 "metadata": {
  "interpreter": {
   "hash": "696d2529491b84605c2f10100943787b7539f12fba5e4adcc6c4f988d6b014cb"
  },
  "kernelspec": {
   "display_name": "Python 3.10.2 ('dsbasic')",
   "language": "python",
   "name": "python3"
  },
  "language_info": {
   "codemirror_mode": {
    "name": "ipython",
    "version": 3
   },
   "file_extension": ".py",
   "mimetype": "text/x-python",
   "name": "python",
   "nbconvert_exporter": "python",
   "pygments_lexer": "ipython3",
   "version": "3.10.2"
  },
  "orig_nbformat": 4
 },
 "nbformat": 4,
 "nbformat_minor": 2
}
