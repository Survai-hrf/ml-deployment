{
 "cells": [
  {
   "cell_type": "code",
   "execution_count": 1,
   "metadata": {},
   "outputs": [
    {
     "ename": "ModuleNotFoundError",
     "evalue": "No module named 'dotenv'",
     "output_type": "error",
     "traceback": [
      "\u001b[0;31m---------------------------------------------------------------------------\u001b[0m",
      "\u001b[0;31mModuleNotFoundError\u001b[0m                       Traceback (most recent call last)",
      "\u001b[0;32m/tmp/ipykernel_31192/1788671992.py\u001b[0m in \u001b[0;36m<module>\u001b[0;34m\u001b[0m\n\u001b[0;32m----> 1\u001b[0;31m \u001b[0;32mfrom\u001b[0m \u001b[0mdotenv\u001b[0m \u001b[0;32mimport\u001b[0m \u001b[0mload_dotenv\u001b[0m\u001b[0;34m,\u001b[0m \u001b[0mfind_dotenv\u001b[0m\u001b[0;34m\u001b[0m\u001b[0;34m\u001b[0m\u001b[0m\n\u001b[0m\u001b[1;32m      2\u001b[0m \u001b[0;32mimport\u001b[0m \u001b[0mos\u001b[0m\u001b[0;34m\u001b[0m\u001b[0;34m\u001b[0m\u001b[0m\n\u001b[1;32m      3\u001b[0m \u001b[0;32mimport\u001b[0m \u001b[0mmoviepy\u001b[0m\u001b[0;34m.\u001b[0m\u001b[0meditor\u001b[0m \u001b[0;32mas\u001b[0m \u001b[0mmp\u001b[0m\u001b[0;34m\u001b[0m\u001b[0;34m\u001b[0m\u001b[0m\n\u001b[1;32m      4\u001b[0m \u001b[0;32mimport\u001b[0m \u001b[0mrequests\u001b[0m\u001b[0;34m\u001b[0m\u001b[0;34m\u001b[0m\u001b[0m\n\u001b[1;32m      5\u001b[0m \u001b[0;32mimport\u001b[0m \u001b[0murllib\u001b[0m\u001b[0;34m.\u001b[0m\u001b[0mrequest\u001b[0m\u001b[0;34m\u001b[0m\u001b[0;34m\u001b[0m\u001b[0m\n",
      "\u001b[0;31mModuleNotFoundError\u001b[0m: No module named 'dotenv'"
     ]
    }
   ],
   "source": [
    "from dotenv import load_dotenv, find_dotenv\n",
    "import os\n",
    "import moviepy.editor as mp\n",
    "import requests\n",
    "import urllib.request\n",
    "\n",
    "load_dotenv(find_dotenv())\n",
    "MUX_TOKEN_ID = os.getenv('MUX_TOKEN_ID')\n",
    "MUX_TOKEN_SECRET = os.getenv('MUX_TOKEN_SECRET')\n",
    "\n",
    "\n",
    "PLAYBACK_ID = 'piyBzpj801bLPqwUsAZj2oQNEeSJVZNkNPTf3zuuXSaE'\n",
    "ASSET_ID = 'tDR02mcuvC5tyQ7E01HBp8WFhW01jkLzVSf86PIqP7RVAA'\n",
    "VIDEO_NAME = 'test.mp4'\n",
    "resolutions = ['high', 'mid', 'low']\n",
    "\"\"\"\n",
    "enable mp4 support THIS SHOULD BE DONE WEB SIDE\n",
    "try:\n",
    "    requests.put(f'https://api.mux.com/video/v1/assets/{ASSET_ID}/mp4-support',\n",
    "                data='{ \"mp4_support\": \"standard\" }', auth=(MUX_TOKEN_ID, MUX_TOKEN_SECRET), headers={\"Content-Type\":\"application/json\"})\n",
    "except: \n",
    "    pass\n",
    "\"\"\"\n",
    "for res in resolutions:\n",
    "    try:\n",
    "        vid = urllib.request.urlretrieve(f\"https://stream.mux.com/{PLAYBACK_ID}/{res}.mp4?download={VIDEO_NAME}\", f'{VIDEO_NAME}')\n",
    "        print(f\"https://stream.mux.com/{PLAYBACK_ID}/{res}.mp4?download={VIDEO_NAME}\")\n",
    "        break\n",
    "    except Exception as e:\n",
    "        print(e)\n",
    "        continue\n",
    "print(vid)\n",
    "my_clip = mp.VideoFileClip(f\"{VIDEO_NAME}\")\n",
    "my_clip.preview(fps = 30)"
   ]
  },
  {
   "cell_type": "code",
   "execution_count": 2,
   "metadata": {},
   "outputs": [
    {
     "name": "stdout",
     "output_type": "stream",
     "text": [
      "Interrupt\n"
     ]
    },
    {
     "data": {
      "text/plain": [
       "[]"
      ]
     },
     "execution_count": 2,
     "metadata": {},
     "output_type": "execute_result"
    }
   ],
   "source": [
    "#response = requests.get(\"https://stream.mux.com/Ghdtz01zXgvdspi1mD9f1kEu2FkfoGGHlCcs2tiFRGaE/high.mp4?download=fire_greece.mp4\", auth=(MUX_TOKEN_ID, MUX_TOKEN_SECRET))\n",
    "# https://stream.mux.com/Y5w00g2rUZAuGiaa01vxlB5GkI4rYC8TZLpR7OBgjT013M\n",
    "\n",
    "\n",
    "#https://stream.mux.com/YbcjYynZMeeOU004301qYrpFcfaorXLO02si9DLcT5QdCk/high.mp4?download=test.mp4"
   ]
  },
  {
   "cell_type": "code",
   "execution_count": 2,
   "metadata": {},
   "outputs": [
    {
     "name": "stdout",
     "output_type": "stream",
     "text": [
      "pOF+Stx1ZdLpecLkd9Z4gbk9q5lwAHX8nqUQNXQZ\n",
      "{'MessageId': 'f1097dbe-ee81-4729-b6b1-6046b3062d24', 'ReceiptHandle': 'AQEBMxvPstVrVKjZ/hEN2ai500a+IHEMSukZEihGzUcdI7umBSsYb89HFhVccQpLB0SWoDbKo1h+CwxTgiL7NMTB6xSNJ4ixhCtZfypP2NFCIUmAuaSg+vEel0Myopd4hdkq5LfzW4fCaV0JnRO/TPNVHvZpU8dX3UadrJfZOIta2s3jpHHw7q9sqHHEAOaVUDHiUA3FV79FcTy6zK6WpIgBe1IiVEY5xLNwSolHU8UMFWC/3zGP0UMnE2HE728zcuI3nkFFbD+1du2VqCQwafYwc2se2ADVb1uVuX+leIywv7I=', 'MD5OfBody': 'b396586a6db63d455930b3907ac9ef42', 'Body': \"{'video_id': 3, 'mux_url': 'https://stream.mux.com/YbcjYynZMeeOU004301qYrpFcfaorXLO02si9DLcT5QdCk/high.mp4'}\", 'Attributes': {'SentTimestamp': '1664999451292'}}\n"
     ]
    }
   ],
   "source": [
    "# recieve sqs message\n",
    "import boto3\n",
    "import os\n",
    "from dotenv import load_dotenv, find_dotenv\n",
    "load_dotenv(find_dotenv())\n",
    "\n",
    "REGION_NAME = os.getenv('REGION_NAME')\n",
    "AWS_ACCESS_KEY_ID = os.getenv('AWS_ACCESS_KEY_ID')\n",
    "AWS_SECRET_ACCESS_KEY = os.getenv('AWS_SECRET_ACCESS_KEY')\n",
    "QUEUE_URL = os.getenv('QUEUE_URL')\n",
    "\n",
    "print(AWS_SECRET_ACCESS_KEY)\n",
    "\"\"\"sqs = boto3.client('sqs')\n",
    "\n",
    "queue_url = 'https://sqs.us-east-2.amazonaws.com/683846764153/SurvaiVideoQueue.fifo'\"\"\"\n",
    "sqs = boto3.client('sqs', region_name=REGION_NAME, aws_access_key_id=AWS_ACCESS_KEY_ID, aws_secret_access_key=AWS_SECRET_ACCESS_KEY)\n",
    "\n",
    "queue_url = QUEUE_URL\n",
    "# Receive message from SQS queue\n",
    "response = sqs.receive_message(\n",
    "    QueueUrl=queue_url,\n",
    "    AttributeNames=[\n",
    "        'SentTimestamp'\n",
    "    ],\n",
    "    MaxNumberOfMessages=1,\n",
    "    MessageAttributeNames=[\n",
    "        'All'\n",
    "    ],\n",
    "    VisibilityTimeout=10,\n",
    "    WaitTimeSeconds=20\n",
    ")\n",
    "message = response['Messages'][0]\n",
    "receipt_handle = message['ReceiptHandle']\n",
    "print(message)\n",
    "sqs.delete_message(\n",
    "    QueueUrl=queue_url,\n",
    "    ReceiptHandle=receipt_handle\n",
    ")\n",
    "message\n",
    "\n",
    "data = eval(message['Body'])\n",
    "video_id = data['video_id']\n",
    "mux_url = data['mux_url']"
   ]
  },
  {
   "cell_type": "code",
   "execution_count": 28,
   "metadata": {},
   "outputs": [],
   "source": [
    "'''\n",
    "{'video_id': 3, 'mux_url': 'https://stream.mux.com/YbcjYynZMeeOU004301qYrpFcfaorXLO02si9DLcT5QdCk/high.mp4'}'''"
   ]
  },
  {
   "cell_type": "code",
   "execution_count": 29,
   "metadata": {},
   "outputs": [
    {
     "data": {
      "text/plain": [
       "'https://stream.mux.com/YbcjYynZMeeOU004301qYrpFcfaorXLO02si9DLcT5QdCk/high.mp4'"
      ]
     },
     "execution_count": 29,
     "metadata": {},
     "output_type": "execute_result"
    }
   ],
   "source": [
    "mux_url"
   ]
  },
  {
   "cell_type": "code",
   "execution_count": null,
   "metadata": {},
   "outputs": [],
   "source": []
  }
 ],
 "metadata": {
  "kernelspec": {
   "display_name": "Python 3.7.12 ('servaideploy')",
   "language": "python",
   "name": "python3"
  },
  "language_info": {
   "codemirror_mode": {
    "name": "ipython",
    "version": 3
   },
   "file_extension": ".py",
   "mimetype": "text/x-python",
   "name": "python",
   "nbconvert_exporter": "python",
   "pygments_lexer": "ipython3",
   "version": "3.7.12"
  },
  "orig_nbformat": 4,
  "vscode": {
   "interpreter": {
    "hash": "0411d2d07b12d99b1303b70f0fe346c67295a729ce048024e175d8c2eec63c58"
   }
  }
 },
 "nbformat": 4,
 "nbformat_minor": 2
}
